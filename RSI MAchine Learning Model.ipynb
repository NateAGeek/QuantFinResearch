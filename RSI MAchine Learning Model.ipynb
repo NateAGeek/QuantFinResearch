{
 "cells": [
  {
   "attachments": {},
   "cell_type": "markdown",
   "metadata": {},
   "source": [
    "# Overview\n",
    "## ML Model for Predicting RSI\n",
    "\n",
    "### RSI\n",
    "RSI is the a classic indicator used to simply measure the strength of the average direction of a price action that is normalized between 0 and 100. \n",
    "\n",
    "#### Formula\n",
    "$$\n",
    "\\begin{align}\n",
    "RS &= \\frac{Avg_{Gain}}{Avg_{Loss}} \\\\\n",
    "RSI &= 100 - \\frac{100}{1+RS}\n",
    "\\end{align}\n",
    "$$\n",
    "\n",
    "### Model\n",
    "The model created should be able to take an average of input, determine the average gain and loss of the period. Then average those two averages and that will generate the relative strength of the trend. But then we need to teach the model to normalize that into a boundary of 0 - 100.\n",
    "\n",
    "### Approaches\n",
    "1) Develop an model that can first predict the relative strength of the period. Then extend the model to normalized the strength into a range of 0 - 100. with the 100 bias and division of rs."
   ]
  },
  {
   "cell_type": "code",
   "execution_count": 2,
   "metadata": {},
   "outputs": [],
   "source": [
    "import tensorflow as tf;\n",
    "import pandas as pd;\n",
    "import numpy as np;\n",
    "import talib as ta;\n",
    "import math;\n",
    "import matplotlib.pyplot as plt;"
   ]
  },
  {
   "cell_type": "code",
   "execution_count": 3,
   "metadata": {},
   "outputs": [],
   "source": [
    "def average_gains(chunk, period):\n",
    "    def gains(chunk):\n",
    "        gain = 0\n",
    "        for i in range(1, len(chunk)):\n",
    "            if (chunk[i-1] < chunk[i]):\n",
    "                gain += chunk[i] - chunk[i-1]\n",
    "        return gain\n",
    "    avg_total_gain = gains(chunk)/period\n",
    "    return avg_total_gain\n",
    "    \n",
    "def average_losses(chunk, period):\n",
    "    def losses(chunk):\n",
    "        loss = 0\n",
    "        for i in range(1, len(chunk)):\n",
    "            if (chunk[i - 1] > chunk[i]):\n",
    "                loss += chunk[i-1] - chunk[i]\n",
    "        return loss\n",
    "    \n",
    "    avg_total_losses = losses(chunk)/period\n",
    "    return avg_total_losses\n",
    "\n",
    "def relative_strength_calculation(chunk, period):\n",
    "    avg_total_gain = average_gains(chunk, period)\n",
    "    avg_total_losses = average_losses(chunk, period)\n",
    "    if avg_total_losses == 0:\n",
    "        return 1\n",
    "    return avg_total_gain/avg_total_losses\n",
    "\n",
    "def rs_set_builder(data: pd.DataFrame, column: str, period: int):\n",
    "    period_chunks = np.array([np.array(data[i:i+period][column]) for i in range(0, data.shape[0] - period)])\n",
    "    rs = np.array([relative_strength_calculation(period_chunks[i], period) for i in range(len(period_chunks))])\n",
    "    \n",
    "    x_train, x_test = period_chunks[0:math.ceil(len(period_chunks)/2)], period_chunks[math.ceil(len(period_chunks)/2):]\n",
    "    y_train, y_test = rs[0:math.ceil(len(rs)/2)], rs[math.ceil(len(rs)/2):]\n",
    "    \n",
    "    return (\n",
    "        (x_train, x_test),\n",
    "        (y_train, y_test)\n",
    "    )"
   ]
  },
  {
   "cell_type": "code",
   "execution_count": 4,
   "metadata": {},
   "outputs": [],
   "source": [
    "spx_data = pd.read_csv(\n",
    "    './data/SPX_2019_1min.csv',\n",
    "    header=None,\n",
    "    names=[\"date\", \"open\", \"high\", \"low\", \"close\"],\n",
    "    parse_dates=[\"date\"],\n",
    "    index_col=['date']\n",
    ")"
   ]
  },
  {
   "cell_type": "code",
   "execution_count": 5,
   "metadata": {},
   "outputs": [],
   "source": [
    "(\n",
    "    (spx_rs_x_train, spx_rs_x_test),\n",
    "    (spx_rs_y_train, spx_rs_y_test)\n",
    ") = rs_set_builder(spx_data, \"close\", 7)"
   ]
  },
  {
   "cell_type": "code",
   "execution_count": 6,
   "metadata": {},
   "outputs": [
    {
     "name": "stdout",
     "output_type": "stream",
     "text": [
      "Metal device set to: Apple M1\n",
      "\n",
      "systemMemory: 16.00 GB\n",
      "maxCacheSize: 5.33 GB\n",
      "\n"
     ]
    },
    {
     "name": "stderr",
     "output_type": "stream",
     "text": [
      "2023-02-22 21:04:58.184198: I tensorflow/core/common_runtime/pluggable_device/pluggable_device_factory.cc:305] Could not identify NUMA node of platform GPU ID 0, defaulting to 0. Your kernel may not have been built with NUMA support.\n",
      "2023-02-22 21:04:58.184937: I tensorflow/core/common_runtime/pluggable_device/pluggable_device_factory.cc:271] Created TensorFlow device (/job:localhost/replica:0/task:0/device:GPU:0 with 0 MB memory) -> physical PluggableDevice (device: 0, name: METAL, pci bus id: <undefined>)\n"
     ]
    }
   ],
   "source": [
    "rs_model = tf.keras.models.Sequential()\n",
    "rs_model.add(tf.keras.layers.Input(shape=(spx_rs_x_train.shape[1],), dtype=\"float64\"))\n",
    "rs_model.add(tf.keras.layers.Dense(256, activation=\"relu\"))\n",
    "rs_model.add(tf.keras.layers.Dense(1))\n",
    "\n",
    "rs_model.compile(optimizer='adam', loss=\"mean_squared_error\")"
   ]
  },
  {
   "cell_type": "code",
   "execution_count": 7,
   "metadata": {},
   "outputs": [
    {
     "name": "stdout",
     "output_type": "stream",
     "text": [
      "Epoch 1/25\n"
     ]
    },
    {
     "name": "stderr",
     "output_type": "stream",
     "text": [
      "2023-02-22 21:04:58.359506: W tensorflow/core/platform/profile_utils/cpu_utils.cc:128] Failed to get CPU frequency: 0 Hz\n"
     ]
    },
    {
     "name": "stdout",
     "output_type": "stream",
     "text": [
      " 9/48 [====>.........................] - ETA: 0s - loss: 154203.4062 "
     ]
    },
    {
     "name": "stderr",
     "output_type": "stream",
     "text": [
      "2023-02-22 21:04:58.715895: I tensorflow/core/grappler/optimizers/custom_graph_optimizer_registry.cc:113] Plugin optimizer for device_type GPU is enabled.\n"
     ]
    },
    {
     "name": "stdout",
     "output_type": "stream",
     "text": [
      "48/48 [==============================] - 1s 10ms/step - loss: 39418.2305\n",
      "Epoch 2/25\n",
      "48/48 [==============================] - 0s 10ms/step - loss: 625.6086\n",
      "Epoch 3/25\n",
      "48/48 [==============================] - 1s 11ms/step - loss: 434.7695\n",
      "Epoch 4/25\n",
      "48/48 [==============================] - 1s 11ms/step - loss: 432.2271\n",
      "Epoch 5/25\n",
      "48/48 [==============================] - 1s 11ms/step - loss: 431.9943\n",
      "Epoch 6/25\n",
      "48/48 [==============================] - 0s 8ms/step - loss: 432.2981\n",
      "Epoch 7/25\n",
      "48/48 [==============================] - 0s 6ms/step - loss: 433.4307\n",
      "Epoch 8/25\n",
      "48/48 [==============================] - 0s 6ms/step - loss: 432.7733\n",
      "Epoch 9/25\n",
      "48/48 [==============================] - 0s 9ms/step - loss: 431.7684\n",
      "Epoch 10/25\n",
      "48/48 [==============================] - 0s 5ms/step - loss: 433.1232\n",
      "Epoch 11/25\n",
      "48/48 [==============================] - 0s 5ms/step - loss: 432.8626\n",
      "Epoch 12/25\n",
      "48/48 [==============================] - 0s 5ms/step - loss: 433.3812\n",
      "Epoch 13/25\n",
      "48/48 [==============================] - 0s 5ms/step - loss: 431.9561\n",
      "Epoch 14/25\n",
      "48/48 [==============================] - 0s 6ms/step - loss: 432.0689\n",
      "Epoch 15/25\n",
      "48/48 [==============================] - 0s 7ms/step - loss: 431.8929\n",
      "Epoch 16/25\n",
      "48/48 [==============================] - 0s 5ms/step - loss: 431.8122\n",
      "Epoch 17/25\n",
      "48/48 [==============================] - 0s 10ms/step - loss: 432.2082\n",
      "Epoch 18/25\n",
      "48/48 [==============================] - 0s 7ms/step - loss: 432.1142\n",
      "Epoch 19/25\n",
      "48/48 [==============================] - 0s 6ms/step - loss: 432.6245\n",
      "Epoch 20/25\n",
      "48/48 [==============================] - 0s 6ms/step - loss: 432.2274\n",
      "Epoch 21/25\n",
      "48/48 [==============================] - 0s 9ms/step - loss: 435.1833\n",
      "Epoch 22/25\n",
      "48/48 [==============================] - 0s 5ms/step - loss: 434.7811\n",
      "Epoch 23/25\n",
      "48/48 [==============================] - 0s 5ms/step - loss: 433.1694\n",
      "Epoch 24/25\n",
      "48/48 [==============================] - 0s 5ms/step - loss: 433.4820\n",
      "Epoch 25/25\n",
      "48/48 [==============================] - 0s 5ms/step - loss: 436.0883\n"
     ]
    },
    {
     "data": {
      "text/plain": [
       "<keras.callbacks.History at 0x1568f7be0>"
      ]
     },
     "execution_count": 7,
     "metadata": {},
     "output_type": "execute_result"
    }
   ],
   "source": [
    "rs_model.fit(spx_rs_x_train, spx_rs_y_train, epochs=25, verbose=1, batch_size=1024)"
   ]
  },
  {
   "cell_type": "code",
   "execution_count": 8,
   "metadata": {},
   "outputs": [
    {
     "name": "stdout",
     "output_type": "stream",
     "text": [
      " 6/48 [==>...........................] - ETA: 0s - loss: 287.7989"
     ]
    },
    {
     "name": "stderr",
     "output_type": "stream",
     "text": [
      "2023-02-22 21:05:07.610334: I tensorflow/core/grappler/optimizers/custom_graph_optimizer_registry.cc:113] Plugin optimizer for device_type GPU is enabled.\n"
     ]
    },
    {
     "name": "stdout",
     "output_type": "stream",
     "text": [
      "48/48 [==============================] - 0s 7ms/step - loss: 401.3322\n"
     ]
    },
    {
     "data": {
      "text/plain": [
       "401.3322448730469"
      ]
     },
     "execution_count": 8,
     "metadata": {},
     "output_type": "execute_result"
    }
   ],
   "source": [
    "rs_model.evaluate(spx_rs_x_test, spx_rs_y_test, batch_size=1024)"
   ]
  },
  {
   "cell_type": "code",
   "execution_count": 9,
   "metadata": {},
   "outputs": [
    {
     "name": "stderr",
     "output_type": "stream",
     "text": [
      "2023-02-22 21:05:08.085985: I tensorflow/core/grappler/optimizers/custom_graph_optimizer_registry.cc:113] Plugin optimizer for device_type GPU is enabled.\n"
     ]
    },
    {
     "data": {
      "text/plain": [
       "[<matplotlib.lines.Line2D at 0x173bcaf10>]"
      ]
     },
     "execution_count": 9,
     "metadata": {},
     "output_type": "execute_result"
    },
    {
     "data": {
      "image/png": "[encoded data removed]",
      "text/plain": [
       "<Figure size 640x480 with 1 Axes>"
      ]
     },
     "metadata": {},
     "output_type": "display_data"
    }
   ],
   "source": [
    "plt.plot(spx_rs_y_test[:25])\n",
    "plt.plot(rs_model.predict(spx_rs_x_test[:25], verbose=0))"
   ]
  },
  {
   "attachments": {},
   "cell_type": "markdown",
   "metadata": {},
   "source": [
    "# Initial Thoughts on Generating Simple RS model\n",
    "Right now it does seem like the model is not able to learn what relative strength is given the chunk of close prices. I believe this might be due to the neurons not able to regressively extract what is consider a gain avg and a loss avg... Thus they can not \"learn\" to divide it by each other. I might first need to rain a two models to first extract the avg gain and avg loss... Then pass those into a model for it to learn how then generate the rs average. Going to try and see if I can train it to recognize gains and then average those."
   ]
  },
  {
   "cell_type": "code",
   "execution_count": 10,
   "metadata": {},
   "outputs": [],
   "source": [
    "spx_avg_gains = np.array([average_gains(spx_data[i:i+7]['close'], 7) for i in range(len(spx_data)-7)])\n",
    "spx_avg_gains_y_train, spx_avg_gains_y_test = spx_avg_gains[0:math.ceil(len(spx_avg_gains)/2)], spx_avg_gains[math.ceil(len(spx_avg_gains)/2):]"
   ]
  },
  {
   "cell_type": "code",
   "execution_count": 11,
   "metadata": {},
   "outputs": [],
   "source": [
    "avg_gain_model = tf.keras.models.Sequential()\n",
    "avg_gain_model.add(tf.keras.layers.Input(shape=spx_rs_x_train.shape[1], dtype=\"float64\"))\n",
    "avg_gain_model.add(tf.keras.layers.LayerNormalization())\n",
    "avg_gain_model.add(tf.keras.layers.Dense(2056, activation=\"relu\"))\n",
    "avg_gain_model.add(tf.keras.layers.LayerNormalization())\n",
    "avg_gain_model.add(tf.keras.layers.Dense(1))\n",
    "\n",
    "avg_gain_model.compile(optimizer='adam', loss=\"mean_squared_error\")"
   ]
  },
  {
   "cell_type": "code",
   "execution_count": 12,
   "metadata": {},
   "outputs": [
    {
     "name": "stdout",
     "output_type": "stream",
     "text": [
      "Epoch 1/3\n",
      " 1/48 [..............................] - ETA: 17s - loss: 476.4468"
     ]
    },
    {
     "name": "stderr",
     "output_type": "stream",
     "text": [
      "2023-02-22 21:05:13.614461: I tensorflow/core/grappler/optimizers/custom_graph_optimizer_registry.cc:113] Plugin optimizer for device_type GPU is enabled.\n"
     ]
    },
    {
     "name": "stdout",
     "output_type": "stream",
     "text": [
      "48/48 [==============================] - 1s 17ms/step - loss: 52.1523\n",
      "Epoch 2/3\n",
      "48/48 [==============================] - 1s 14ms/step - loss: 0.1810\n",
      "Epoch 3/3\n",
      "48/48 [==============================] - 1s 13ms/step - loss: 0.0755\n"
     ]
    },
    {
     "data": {
      "text/plain": [
       "<keras.callbacks.History at 0x156d2e550>"
      ]
     },
     "execution_count": 12,
     "metadata": {},
     "output_type": "execute_result"
    }
   ],
   "source": [
    "avg_gain_model.fit(spx_rs_x_train, spx_avg_gains_y_train, epochs=3, batch_size=1024)"
   ]
  },
  {
   "cell_type": "code",
   "execution_count": 13,
   "metadata": {},
   "outputs": [
    {
     "name": "stdout",
     "output_type": "stream",
     "text": [
      "15/48 [========>.....................] - ETA: 0s - loss: 0.1027"
     ]
    },
    {
     "name": "stderr",
     "output_type": "stream",
     "text": [
      "2023-02-22 21:05:16.777000: I tensorflow/core/grappler/optimizers/custom_graph_optimizer_registry.cc:113] Plugin optimizer for device_type GPU is enabled.\n"
     ]
    },
    {
     "name": "stdout",
     "output_type": "stream",
     "text": [
      "48/48 [==============================] - 1s 11ms/step - loss: 0.0806\n"
     ]
    },
    {
     "data": {
      "text/plain": [
       "0.0806363895535469"
      ]
     },
     "execution_count": 13,
     "metadata": {},
     "output_type": "execute_result"
    }
   ],
   "source": [
    "avg_gain_model.evaluate(spx_rs_x_test, spx_avg_gains_y_test, batch_size=1024)"
   ]
  },
  {
   "cell_type": "code",
   "execution_count": 14,
   "metadata": {},
   "outputs": [
    {
     "name": "stderr",
     "output_type": "stream",
     "text": [
      "2023-02-22 21:05:18.540979: I tensorflow/core/grappler/optimizers/custom_graph_optimizer_registry.cc:113] Plugin optimizer for device_type GPU is enabled.\n",
      "2023-02-22 21:05:18.650410: I tensorflow/core/grappler/optimizers/custom_graph_optimizer_registry.cc:113] Plugin optimizer for device_type GPU is enabled.\n"
     ]
    },
    {
     "name": "stdout",
     "output_type": "stream",
     "text": [
      "[[0.2904384]]\n",
      "[0.08571429]\n"
     ]
    },
    {
     "data": {
      "image/png": "[encoded data removed]",
      "text/plain": [
       "<Figure size 640x480 with 1 Axes>"
      ]
     },
     "metadata": {},
     "output_type": "display_data"
    }
   ],
   "source": [
    "plt.plot(spx_avg_gains_y_test[:256])\n",
    "plt.plot(avg_gain_model.predict(spx_rs_x_test[:256], verbose=0))\n",
    "print(avg_gain_model.predict(spx_rs_x_test[100:101], verbose=0))\n",
    "print(spx_avg_gains_y_test[100:101])"
   ]
  },
  {
   "attachments": {},
   "cell_type": "markdown",
   "metadata": {},
   "source": [
    "# Thoughts on Generating Average Gains\n",
    "The model is having trouble fitting the average gain... I would have thought that it could better average a single a group of prices. But I think the model is having trouble isolating the positive gains. Maybe we need a model that will attempt to learn what are the gainers and the losses in a model. Although if we isolated those features manually, via feature engineering it might prove to me easier. I would like the model to purely discover and learn how to create RSI from scratch.\n",
    "\n",
    "## Strategy\n",
    "Make the model first classify if a tick was a gain or a loss. Then use that classification context to then determine the gain and loss of a period. That then could be used to get a avg gain and loss of a period. Then use those to produce a RS."
   ]
  },
  {
   "cell_type": "code",
   "execution_count": 83,
   "metadata": {},
   "outputs": [],
   "source": [
    "def classify_data_for_gain_or_loss(data: pd.DataFrame, column: str, period: int):\n",
    "    \n",
    "    # Returns an array of length period - 1, and return an array of 1 if gain and 0 if loss\n",
    "    def loss_or_gain(chunk, period):\n",
    "        gain_or_loss = [];\n",
    "        for i in range(1, period):\n",
    "            if chunk[i-1] < chunk[i]:\n",
    "                gain_or_loss.append(1)\n",
    "            else:\n",
    "                gain_or_loss.append(0)\n",
    "        return gain_or_loss\n",
    "    \n",
    "    period_chunks = np.array([np.array(data[i:i+period][column]) for i in range(0, data.shape[0] - period)])\n",
    "    classify_gain_or_loss = np.array([loss_or_gain(period_chunks[i], period) for i in range(len(period_chunks))])\n",
    "    \n",
    "    y_train, y_test = classify_gain_or_loss[0:math.ceil(len(classify_gain_or_loss)/2)], classify_gain_or_loss[math.ceil(len(classify_gain_or_loss)/2):]\n",
    "    \n",
    "    return (y_train, y_test)"
   ]
  },
  {
   "cell_type": "code",
   "execution_count": 84,
   "metadata": {},
   "outputs": [],
   "source": [
    "classify_gain_or_loss_y_train, classify_gain_or_loss_y_test = classify_data_for_gain_or_loss(spx_data, \"close\", 7)"
   ]
  },
  {
   "cell_type": "code",
   "execution_count": 145,
   "metadata": {},
   "outputs": [],
   "source": [
    "classify_gain_or_loss_model = tf.keras.models.Sequential()\n",
    "classify_gain_or_loss_model.add(tf.keras.layers.Input(shape=(spx_rs_x_train.shape[1],), dtype=\"float64\"))\n",
    "classify_gain_or_loss_model.add(tf.keras.layers.Dense(128, activation=\"relu\"))\n",
    "classify_gain_or_loss_model.add(tf.keras.layers.Dense(128, activation=\"relu\"))\n",
    "classify_gain_or_loss_model.add(tf.keras.layers.Dense(128, activation=\"relu\"))\n",
    "classify_gain_or_loss_model.add(tf.keras.layers.Dense(128, activation=\"relu\"))\n",
    "classify_gain_or_loss_model.add(tf.keras.layers.Dense(128, activation=\"relu\"))\n",
    "classify_gain_or_loss_model.add(tf.keras.layers.Dense(128, activation=\"relu\"))\n",
    "classify_gain_or_loss_model.add(tf.keras.layers.Dense(6, activation=\"linear\"))\n",
    "classify_gain_or_loss_model.compile(optimizer=tf.keras.optimizers.Adam(learning_rate=0.00001), loss=tf.keras.losses.SparseCategoricalCrossentropy(from_logits=True), metrics=['accuracy'])"
   ]
  },
  {
   "cell_type": "code",
   "execution_count": 146,
   "metadata": {},
   "outputs": [
    {
     "name": "stdout",
     "output_type": "stream",
     "text": [
      "Epoch 1/25\n"
     ]
    },
    {
     "name": "stderr",
     "output_type": "stream",
     "text": [
      "2023-02-22 22:02:58.170115: I tensorflow/core/grappler/optimizers/custom_graph_optimizer_registry.cc:113] Plugin optimizer for device_type GPU is enabled.\n"
     ]
    },
    {
     "ename": "InvalidArgumentError",
     "evalue": "Graph execution error:\n\nDetected at node 'sparse_categorical_crossentropy/SparseSoftmaxCrossEntropyWithLogits/SparseSoftmaxCrossEntropyWithLogits' defined at (most recent call last):\n    File \"/Applications/Xcode.app/Contents/Developer/Library/Frameworks/Python3.framework/Versions/3.9/lib/python3.9/runpy.py\", line 197, in _run_module_as_main\n      return _run_code(code, main_globals, None,\n    File \"/Applications/Xcode.app/Contents/Developer/Library/Frameworks/Python3.framework/Versions/3.9/lib/python3.9/runpy.py\", line 87, in _run_code\n      exec(code, run_globals)\n    File \"/Users/nateageek/Library/Python/3.9/lib/python/site-packages/ipykernel_launcher.py\", line 17, in <module>\n      app.launch_new_instance()\n    File \"/Users/nateageek/Library/Python/3.9/lib/python/site-packages/traitlets/config/application.py\", line 985, in launch_instance\n      app.start()\n    File \"/Users/nateageek/Library/Python/3.9/lib/python/site-packages/ipykernel/kernelapp.py\", line 712, in start\n      self.io_loop.start()\n    File \"/Users/nateageek/Library/Python/3.9/lib/python/site-packages/tornado/platform/asyncio.py\", line 215, in start\n      self.asyncio_loop.run_forever()\n    File \"/Applications/Xcode.app/Contents/Developer/Library/Frameworks/Python3.framework/Versions/3.9/lib/python3.9/asyncio/base_events.py\", line 596, in run_forever\n      self._run_once()\n    File \"/Applications/Xcode.app/Contents/Developer/Library/Frameworks/Python3.framework/Versions/3.9/lib/python3.9/asyncio/base_events.py\", line 1890, in _run_once\n      handle._run()\n    File \"/Applications/Xcode.app/Contents/Developer/Library/Frameworks/Python3.framework/Versions/3.9/lib/python3.9/asyncio/events.py\", line 80, in _run\n      self._context.run(self._callback, *self._args)\n    File \"/Users/nateageek/Library/Python/3.9/lib/python/site-packages/ipykernel/kernelbase.py\", line 510, in dispatch_queue\n      await self.process_one()\n    File \"/Users/nateageek/Library/Python/3.9/lib/python/site-packages/ipykernel/kernelbase.py\", line 499, in process_one\n      await dispatch(*args)\n    File \"/Users/nateageek/Library/Python/3.9/lib/python/site-packages/ipykernel/kernelbase.py\", line 406, in dispatch_shell\n      await result\n    File \"/Users/nateageek/Library/Python/3.9/lib/python/site-packages/ipykernel/kernelbase.py\", line 730, in execute_request\n      reply_content = await reply_content\n    File \"/Users/nateageek/Library/Python/3.9/lib/python/site-packages/ipykernel/ipkernel.py\", line 383, in do_execute\n      res = shell.run_cell(\n    File \"/Users/nateageek/Library/Python/3.9/lib/python/site-packages/ipykernel/zmqshell.py\", line 528, in run_cell\n      return super().run_cell(*args, **kwargs)\n    File \"/Users/nateageek/Library/Python/3.9/lib/python/site-packages/IPython/core/interactiveshell.py\", line 2940, in run_cell\n      result = self._run_cell(\n    File \"/Users/nateageek/Library/Python/3.9/lib/python/site-packages/IPython/core/interactiveshell.py\", line 2995, in _run_cell\n      return runner(coro)\n    File \"/Users/nateageek/Library/Python/3.9/lib/python/site-packages/IPython/core/async_helpers.py\", line 129, in _pseudo_sync_runner\n      coro.send(None)\n    File \"/Users/nateageek/Library/Python/3.9/lib/python/site-packages/IPython/core/interactiveshell.py\", line 3194, in run_cell_async\n      has_raised = await self.run_ast_nodes(code_ast.body, cell_name,\n    File \"/Users/nateageek/Library/Python/3.9/lib/python/site-packages/IPython/core/interactiveshell.py\", line 3373, in run_ast_nodes\n      if await self.run_code(code, result, async_=asy):\n    File \"/Users/nateageek/Library/Python/3.9/lib/python/site-packages/IPython/core/interactiveshell.py\", line 3433, in run_code\n      exec(code_obj, self.user_global_ns, self.user_ns)\n    File \"/var/folders/2y/zngzgkjn5j7ghwmmj_f0ytdh0000gn/T/ipykernel_4480/1929027291.py\", line 1, in <module>\n      classify_gain_or_loss_model.fit(spx_rs_x_train, classify_gain_or_loss_y_train, epochs=25, batch_size=1024)\n    File \"/Users/nateageek/Library/Python/3.9/lib/python/site-packages/keras/utils/traceback_utils.py\", line 64, in error_handler\n      return fn(*args, **kwargs)\n    File \"/Users/nateageek/Library/Python/3.9/lib/python/site-packages/keras/engine/training.py\", line 1409, in fit\n      tmp_logs = self.train_function(iterator)\n    File \"/Users/nateageek/Library/Python/3.9/lib/python/site-packages/keras/engine/training.py\", line 1051, in train_function\n      return step_function(self, iterator)\n    File \"/Users/nateageek/Library/Python/3.9/lib/python/site-packages/keras/engine/training.py\", line 1040, in step_function\n      outputs = model.distribute_strategy.run(run_step, args=(data,))\n    File \"/Users/nateageek/Library/Python/3.9/lib/python/site-packages/keras/engine/training.py\", line 1030, in run_step\n      outputs = model.train_step(data)\n    File \"/Users/nateageek/Library/Python/3.9/lib/python/site-packages/keras/engine/training.py\", line 890, in train_step\n      loss = self.compute_loss(x, y, y_pred, sample_weight)\n    File \"/Users/nateageek/Library/Python/3.9/lib/python/site-packages/keras/engine/training.py\", line 948, in compute_loss\n      return self.compiled_loss(\n    File \"/Users/nateageek/Library/Python/3.9/lib/python/site-packages/keras/engine/compile_utils.py\", line 201, in __call__\n      loss_value = loss_obj(y_t, y_p, sample_weight=sw)\n    File \"/Users/nateageek/Library/Python/3.9/lib/python/site-packages/keras/losses.py\", line 139, in __call__\n      losses = call_fn(y_true, y_pred)\n    File \"/Users/nateageek/Library/Python/3.9/lib/python/site-packages/keras/losses.py\", line 243, in call\n      return ag_fn(y_true, y_pred, **self._fn_kwargs)\n    File \"/Users/nateageek/Library/Python/3.9/lib/python/site-packages/keras/losses.py\", line 1860, in sparse_categorical_crossentropy\n      return backend.sparse_categorical_crossentropy(\n    File \"/Users/nateageek/Library/Python/3.9/lib/python/site-packages/keras/backend.py\", line 5238, in sparse_categorical_crossentropy\n      res = tf.nn.sparse_softmax_cross_entropy_with_logits(\nNode: 'sparse_categorical_crossentropy/SparseSoftmaxCrossEntropyWithLogits/SparseSoftmaxCrossEntropyWithLogits'\nDetected at node 'sparse_categorical_crossentropy/SparseSoftmaxCrossEntropyWithLogits/SparseSoftmaxCrossEntropyWithLogits' defined at (most recent call last):\n    File \"/Applications/Xcode.app/Contents/Developer/Library/Frameworks/Python3.framework/Versions/3.9/lib/python3.9/runpy.py\", line 197, in _run_module_as_main\n      return _run_code(code, main_globals, None,\n    File \"/Applications/Xcode.app/Contents/Developer/Library/Frameworks/Python3.framework/Versions/3.9/lib/python3.9/runpy.py\", line 87, in _run_code\n      exec(code, run_globals)\n    File \"/Users/nateageek/Library/Python/3.9/lib/python/site-packages/ipykernel_launcher.py\", line 17, in <module>\n      app.launch_new_instance()\n    File \"/Users/nateageek/Library/Python/3.9/lib/python/site-packages/traitlets/config/application.py\", line 985, in launch_instance\n      app.start()\n    File \"/Users/nateageek/Library/Python/3.9/lib/python/site-packages/ipykernel/kernelapp.py\", line 712, in start\n      self.io_loop.start()\n    File \"/Users/nateageek/Library/Python/3.9/lib/python/site-packages/tornado/platform/asyncio.py\", line 215, in start\n      self.asyncio_loop.run_forever()\n    File \"/Applications/Xcode.app/Contents/Developer/Library/Frameworks/Python3.framework/Versions/3.9/lib/python3.9/asyncio/base_events.py\", line 596, in run_forever\n      self._run_once()\n    File \"/Applications/Xcode.app/Contents/Developer/Library/Frameworks/Python3.framework/Versions/3.9/lib/python3.9/asyncio/base_events.py\", line 1890, in _run_once\n      handle._run()\n    File \"/Applications/Xcode.app/Contents/Developer/Library/Frameworks/Python3.framework/Versions/3.9/lib/python3.9/asyncio/events.py\", line 80, in _run\n      self._context.run(self._callback, *self._args)\n    File \"/Users/nateageek/Library/Python/3.9/lib/python/site-packages/ipykernel/kernelbase.py\", line 510, in dispatch_queue\n      await self.process_one()\n    File \"/Users/nateageek/Library/Python/3.9/lib/python/site-packages/ipykernel/kernelbase.py\", line 499, in process_one\n      await dispatch(*args)\n    File \"/Users/nateageek/Library/Python/3.9/lib/python/site-packages/ipykernel/kernelbase.py\", line 406, in dispatch_shell\n      await result\n    File \"/Users/nateageek/Library/Python/3.9/lib/python/site-packages/ipykernel/kernelbase.py\", line 730, in execute_request\n      reply_content = await reply_content\n    File \"/Users/nateageek/Library/Python/3.9/lib/python/site-packages/ipykernel/ipkernel.py\", line 383, in do_execute\n      res = shell.run_cell(\n    File \"/Users/nateageek/Library/Python/3.9/lib/python/site-packages/ipykernel/zmqshell.py\", line 528, in run_cell\n      return super().run_cell(*args, **kwargs)\n    File \"/Users/nateageek/Library/Python/3.9/lib/python/site-packages/IPython/core/interactiveshell.py\", line 2940, in run_cell\n      result = self._run_cell(\n    File \"/Users/nateageek/Library/Python/3.9/lib/python/site-packages/IPython/core/interactiveshell.py\", line 2995, in _run_cell\n      return runner(coro)\n    File \"/Users/nateageek/Library/Python/3.9/lib/python/site-packages/IPython/core/async_helpers.py\", line 129, in _pseudo_sync_runner\n      coro.send(None)\n    File \"/Users/nateageek/Library/Python/3.9/lib/python/site-packages/IPython/core/interactiveshell.py\", line 3194, in run_cell_async\n      has_raised = await self.run_ast_nodes(code_ast.body, cell_name,\n    File \"/Users/nateageek/Library/Python/3.9/lib/python/site-packages/IPython/core/interactiveshell.py\", line 3373, in run_ast_nodes\n      if await self.run_code(code, result, async_=asy):\n    File \"/Users/nateageek/Library/Python/3.9/lib/python/site-packages/IPython/core/interactiveshell.py\", line 3433, in run_code\n      exec(code_obj, self.user_global_ns, self.user_ns)\n    File \"/var/folders/2y/zngzgkjn5j7ghwmmj_f0ytdh0000gn/T/ipykernel_4480/1929027291.py\", line 1, in <module>\n      classify_gain_or_loss_model.fit(spx_rs_x_train, classify_gain_or_loss_y_train, epochs=25, batch_size=1024)\n    File \"/Users/nateageek/Library/Python/3.9/lib/python/site-packages/keras/utils/traceback_utils.py\", line 64, in error_handler\n      return fn(*args, **kwargs)\n    File \"/Users/nateageek/Library/Python/3.9/lib/python/site-packages/keras/engine/training.py\", line 1409, in fit\n      tmp_logs = self.train_function(iterator)\n    File \"/Users/nateageek/Library/Python/3.9/lib/python/site-packages/keras/engine/training.py\", line 1051, in train_function\n      return step_function(self, iterator)\n    File \"/Users/nateageek/Library/Python/3.9/lib/python/site-packages/keras/engine/training.py\", line 1040, in step_function\n      outputs = model.distribute_strategy.run(run_step, args=(data,))\n    File \"/Users/nateageek/Library/Python/3.9/lib/python/site-packages/keras/engine/training.py\", line 1030, in run_step\n      outputs = model.train_step(data)\n    File \"/Users/nateageek/Library/Python/3.9/lib/python/site-packages/keras/engine/training.py\", line 890, in train_step\n      loss = self.compute_loss(x, y, y_pred, sample_weight)\n    File \"/Users/nateageek/Library/Python/3.9/lib/python/site-packages/keras/engine/training.py\", line 948, in compute_loss\n      return self.compiled_loss(\n    File \"/Users/nateageek/Library/Python/3.9/lib/python/site-packages/keras/engine/compile_utils.py\", line 201, in __call__\n      loss_value = loss_obj(y_t, y_p, sample_weight=sw)\n    File \"/Users/nateageek/Library/Python/3.9/lib/python/site-packages/keras/losses.py\", line 139, in __call__\n      losses = call_fn(y_true, y_pred)\n    File \"/Users/nateageek/Library/Python/3.9/lib/python/site-packages/keras/losses.py\", line 243, in call\n      return ag_fn(y_true, y_pred, **self._fn_kwargs)\n    File \"/Users/nateageek/Library/Python/3.9/lib/python/site-packages/keras/losses.py\", line 1860, in sparse_categorical_crossentropy\n      return backend.sparse_categorical_crossentropy(\n    File \"/Users/nateageek/Library/Python/3.9/lib/python/site-packages/keras/backend.py\", line 5238, in sparse_categorical_crossentropy\n      res = tf.nn.sparse_softmax_cross_entropy_with_logits(\nNode: 'sparse_categorical_crossentropy/SparseSoftmaxCrossEntropyWithLogits/SparseSoftmaxCrossEntropyWithLogits'\n2 root error(s) found.\n  (0) INVALID_ARGUMENT:  logits and labels must have the same first dimension, got logits shape [1024,6] and labels shape [6144]\n\t [[{{node sparse_categorical_crossentropy/SparseSoftmaxCrossEntropyWithLogits/SparseSoftmaxCrossEntropyWithLogits}}]]\n\t [[Equal/_19]]\n  (1) INVALID_ARGUMENT:  logits and labels must have the same first dimension, got logits shape [1024,6] and labels shape [6144]\n\t [[{{node sparse_categorical_crossentropy/SparseSoftmaxCrossEntropyWithLogits/SparseSoftmaxCrossEntropyWithLogits}}]]\n0 successful operations.\n0 derived errors ignored. [Op:__inference_train_function_164794]",
     "output_type": "error",
     "traceback": [
      "\u001b[0;31m---------------------------------------------------------------------------\u001b[0m",
      "\u001b[0;31mInvalidArgumentError\u001b[0m                      Traceback (most recent call last)",
      "Cell \u001b[0;32mIn[146], line 1\u001b[0m\n\u001b[0;32m----> 1\u001b[0m classify_gain_or_loss_model\u001b[39m.\u001b[39;49mfit(spx_rs_x_train, classify_gain_or_loss_y_train, epochs\u001b[39m=\u001b[39;49m\u001b[39m25\u001b[39;49m, batch_size\u001b[39m=\u001b[39;49m\u001b[39m1024\u001b[39;49m)\n",
      "File \u001b[0;32m~/Library/Python/3.9/lib/python/site-packages/keras/utils/traceback_utils.py:67\u001b[0m, in \u001b[0;36mfilter_traceback.<locals>.error_handler\u001b[0;34m(*args, **kwargs)\u001b[0m\n\u001b[1;32m     65\u001b[0m \u001b[39mexcept\u001b[39;00m \u001b[39mException\u001b[39;00m \u001b[39mas\u001b[39;00m e:  \u001b[39m# pylint: disable=broad-except\u001b[39;00m\n\u001b[1;32m     66\u001b[0m   filtered_tb \u001b[39m=\u001b[39m _process_traceback_frames(e\u001b[39m.\u001b[39m__traceback__)\n\u001b[0;32m---> 67\u001b[0m   \u001b[39mraise\u001b[39;00m e\u001b[39m.\u001b[39mwith_traceback(filtered_tb) \u001b[39mfrom\u001b[39;00m \u001b[39mNone\u001b[39m\n\u001b[1;32m     68\u001b[0m \u001b[39mfinally\u001b[39;00m:\n\u001b[1;32m     69\u001b[0m   \u001b[39mdel\u001b[39;00m filtered_tb\n",
      "File \u001b[0;32m~/Library/Python/3.9/lib/python/site-packages/tensorflow/python/eager/execute.py:54\u001b[0m, in \u001b[0;36mquick_execute\u001b[0;34m(op_name, num_outputs, inputs, attrs, ctx, name)\u001b[0m\n\u001b[1;32m     52\u001b[0m \u001b[39mtry\u001b[39;00m:\n\u001b[1;32m     53\u001b[0m   ctx\u001b[39m.\u001b[39mensure_initialized()\n\u001b[0;32m---> 54\u001b[0m   tensors \u001b[39m=\u001b[39m pywrap_tfe\u001b[39m.\u001b[39mTFE_Py_Execute(ctx\u001b[39m.\u001b[39m_handle, device_name, op_name,\n\u001b[1;32m     55\u001b[0m                                       inputs, attrs, num_outputs)\n\u001b[1;32m     56\u001b[0m \u001b[39mexcept\u001b[39;00m core\u001b[39m.\u001b[39m_NotOkStatusException \u001b[39mas\u001b[39;00m e:\n\u001b[1;32m     57\u001b[0m   \u001b[39mif\u001b[39;00m name \u001b[39mis\u001b[39;00m \u001b[39mnot\u001b[39;00m \u001b[39mNone\u001b[39;00m:\n",
      "\u001b[0;31mInvalidArgumentError\u001b[0m: Graph execution error:\n\nDetected at node 'sparse_categorical_crossentropy/SparseSoftmaxCrossEntropyWithLogits/SparseSoftmaxCrossEntropyWithLogits' defined at (most recent call last):\n    File \"/Applications/Xcode.app/Contents/Developer/Library/Frameworks/Python3.framework/Versions/3.9/lib/python3.9/runpy.py\", line 197, in _run_module_as_main\n      return _run_code(code, main_globals, None,\n    File \"/Applications/Xcode.app/Contents/Developer/Library/Frameworks/Python3.framework/Versions/3.9/lib/python3.9/runpy.py\", line 87, in _run_code\n      exec(code, run_globals)\n    File \"/Users/nateageek/Library/Python/3.9/lib/python/site-packages/ipykernel_launcher.py\", line 17, in <module>\n      app.launch_new_instance()\n    File \"/Users/nateageek/Library/Python/3.9/lib/python/site-packages/traitlets/config/application.py\", line 985, in launch_instance\n      app.start()\n    File \"/Users/nateageek/Library/Python/3.9/lib/python/site-packages/ipykernel/kernelapp.py\", line 712, in start\n      self.io_loop.start()\n    File \"/Users/nateageek/Library/Python/3.9/lib/python/site-packages/tornado/platform/asyncio.py\", line 215, in start\n      self.asyncio_loop.run_forever()\n    File \"/Applications/Xcode.app/Contents/Developer/Library/Frameworks/Python3.framework/Versions/3.9/lib/python3.9/asyncio/base_events.py\", line 596, in run_forever\n      self._run_once()\n    File \"/Applications/Xcode.app/Contents/Developer/Library/Frameworks/Python3.framework/Versions/3.9/lib/python3.9/asyncio/base_events.py\", line 1890, in _run_once\n      handle._run()\n    File \"/Applications/Xcode.app/Contents/Developer/Library/Frameworks/Python3.framework/Versions/3.9/lib/python3.9/asyncio/events.py\", line 80, in _run\n      self._context.run(self._callback, *self._args)\n    File \"/Users/nateageek/Library/Python/3.9/lib/python/site-packages/ipykernel/kernelbase.py\", line 510, in dispatch_queue\n      await self.process_one()\n    File \"/Users/nateageek/Library/Python/3.9/lib/python/site-packages/ipykernel/kernelbase.py\", line 499, in process_one\n      await dispatch(*args)\n    File \"/Users/nateageek/Library/Python/3.9/lib/python/site-packages/ipykernel/kernelbase.py\", line 406, in dispatch_shell\n      await result\n    File \"/Users/nateageek/Library/Python/3.9/lib/python/site-packages/ipykernel/kernelbase.py\", line 730, in execute_request\n      reply_content = await reply_content\n    File \"/Users/nateageek/Library/Python/3.9/lib/python/site-packages/ipykernel/ipkernel.py\", line 383, in do_execute\n      res = shell.run_cell(\n    File \"/Users/nateageek/Library/Python/3.9/lib/python/site-packages/ipykernel/zmqshell.py\", line 528, in run_cell\n      return super().run_cell(*args, **kwargs)\n    File \"/Users/nateageek/Library/Python/3.9/lib/python/site-packages/IPython/core/interactiveshell.py\", line 2940, in run_cell\n      result = self._run_cell(\n    File \"/Users/nateageek/Library/Python/3.9/lib/python/site-packages/IPython/core/interactiveshell.py\", line 2995, in _run_cell\n      return runner(coro)\n    File \"/Users/nateageek/Library/Python/3.9/lib/python/site-packages/IPython/core/async_helpers.py\", line 129, in _pseudo_sync_runner\n      coro.send(None)\n    File \"/Users/nateageek/Library/Python/3.9/lib/python/site-packages/IPython/core/interactiveshell.py\", line 3194, in run_cell_async\n      has_raised = await self.run_ast_nodes(code_ast.body, cell_name,\n    File \"/Users/nateageek/Library/Python/3.9/lib/python/site-packages/IPython/core/interactiveshell.py\", line 3373, in run_ast_nodes\n      if await self.run_code(code, result, async_=asy):\n    File \"/Users/nateageek/Library/Python/3.9/lib/python/site-packages/IPython/core/interactiveshell.py\", line 3433, in run_code\n      exec(code_obj, self.user_global_ns, self.user_ns)\n    File \"/var/folders/2y/zngzgkjn5j7ghwmmj_f0ytdh0000gn/T/ipykernel_4480/1929027291.py\", line 1, in <module>\n      classify_gain_or_loss_model.fit(spx_rs_x_train, classify_gain_or_loss_y_train, epochs=25, batch_size=1024)\n    File \"/Users/nateageek/Library/Python/3.9/lib/python/site-packages/keras/utils/traceback_utils.py\", line 64, in error_handler\n      return fn(*args, **kwargs)\n    File \"/Users/nateageek/Library/Python/3.9/lib/python/site-packages/keras/engine/training.py\", line 1409, in fit\n      tmp_logs = self.train_function(iterator)\n    File \"/Users/nateageek/Library/Python/3.9/lib/python/site-packages/keras/engine/training.py\", line 1051, in train_function\n      return step_function(self, iterator)\n    File \"/Users/nateageek/Library/Python/3.9/lib/python/site-packages/keras/engine/training.py\", line 1040, in step_function\n      outputs = model.distribute_strategy.run(run_step, args=(data,))\n    File \"/Users/nateageek/Library/Python/3.9/lib/python/site-packages/keras/engine/training.py\", line 1030, in run_step\n      outputs = model.train_step(data)\n    File \"/Users/nateageek/Library/Python/3.9/lib/python/site-packages/keras/engine/training.py\", line 890, in train_step\n      loss = self.compute_loss(x, y, y_pred, sample_weight)\n    File \"/Users/nateageek/Library/Python/3.9/lib/python/site-packages/keras/engine/training.py\", line 948, in compute_loss\n      return self.compiled_loss(\n    File \"/Users/nateageek/Library/Python/3.9/lib/python/site-packages/keras/engine/compile_utils.py\", line 201, in __call__\n      loss_value = loss_obj(y_t, y_p, sample_weight=sw)\n    File \"/Users/nateageek/Library/Python/3.9/lib/python/site-packages/keras/losses.py\", line 139, in __call__\n      losses = call_fn(y_true, y_pred)\n    File \"/Users/nateageek/Library/Python/3.9/lib/python/site-packages/keras/losses.py\", line 243, in call\n      return ag_fn(y_true, y_pred, **self._fn_kwargs)\n    File \"/Users/nateageek/Library/Python/3.9/lib/python/site-packages/keras/losses.py\", line 1860, in sparse_categorical_crossentropy\n      return backend.sparse_categorical_crossentropy(\n    File \"/Users/nateageek/Library/Python/3.9/lib/python/site-packages/keras/backend.py\", line 5238, in sparse_categorical_crossentropy\n      res = tf.nn.sparse_softmax_cross_entropy_with_logits(\nNode: 'sparse_categorical_crossentropy/SparseSoftmaxCrossEntropyWithLogits/SparseSoftmaxCrossEntropyWithLogits'\nDetected at node 'sparse_categorical_crossentropy/SparseSoftmaxCrossEntropyWithLogits/SparseSoftmaxCrossEntropyWithLogits' defined at (most recent call last):\n    File \"/Applications/Xcode.app/Contents/Developer/Library/Frameworks/Python3.framework/Versions/3.9/lib/python3.9/runpy.py\", line 197, in _run_module_as_main\n      return _run_code(code, main_globals, None,\n    File \"/Applications/Xcode.app/Contents/Developer/Library/Frameworks/Python3.framework/Versions/3.9/lib/python3.9/runpy.py\", line 87, in _run_code\n      exec(code, run_globals)\n    File \"/Users/nateageek/Library/Python/3.9/lib/python/site-packages/ipykernel_launcher.py\", line 17, in <module>\n      app.launch_new_instance()\n    File \"/Users/nateageek/Library/Python/3.9/lib/python/site-packages/traitlets/config/application.py\", line 985, in launch_instance\n      app.start()\n    File \"/Users/nateageek/Library/Python/3.9/lib/python/site-packages/ipykernel/kernelapp.py\", line 712, in start\n      self.io_loop.start()\n    File \"/Users/nateageek/Library/Python/3.9/lib/python/site-packages/tornado/platform/asyncio.py\", line 215, in start\n      self.asyncio_loop.run_forever()\n    File \"/Applications/Xcode.app/Contents/Developer/Library/Frameworks/Python3.framework/Versions/3.9/lib/python3.9/asyncio/base_events.py\", line 596, in run_forever\n      self._run_once()\n    File \"/Applications/Xcode.app/Contents/Developer/Library/Frameworks/Python3.framework/Versions/3.9/lib/python3.9/asyncio/base_events.py\", line 1890, in _run_once\n      handle._run()\n    File \"/Applications/Xcode.app/Contents/Developer/Library/Frameworks/Python3.framework/Versions/3.9/lib/python3.9/asyncio/events.py\", line 80, in _run\n      self._context.run(self._callback, *self._args)\n    File \"/Users/nateageek/Library/Python/3.9/lib/python/site-packages/ipykernel/kernelbase.py\", line 510, in dispatch_queue\n      await self.process_one()\n    File \"/Users/nateageek/Library/Python/3.9/lib/python/site-packages/ipykernel/kernelbase.py\", line 499, in process_one\n      await dispatch(*args)\n    File \"/Users/nateageek/Library/Python/3.9/lib/python/site-packages/ipykernel/kernelbase.py\", line 406, in dispatch_shell\n      await result\n    File \"/Users/nateageek/Library/Python/3.9/lib/python/site-packages/ipykernel/kernelbase.py\", line 730, in execute_request\n      reply_content = await reply_content\n    File \"/Users/nateageek/Library/Python/3.9/lib/python/site-packages/ipykernel/ipkernel.py\", line 383, in do_execute\n      res = shell.run_cell(\n    File \"/Users/nateageek/Library/Python/3.9/lib/python/site-packages/ipykernel/zmqshell.py\", line 528, in run_cell\n      return super().run_cell(*args, **kwargs)\n    File \"/Users/nateageek/Library/Python/3.9/lib/python/site-packages/IPython/core/interactiveshell.py\", line 2940, in run_cell\n      result = self._run_cell(\n    File \"/Users/nateageek/Library/Python/3.9/lib/python/site-packages/IPython/core/interactiveshell.py\", line 2995, in _run_cell\n      return runner(coro)\n    File \"/Users/nateageek/Library/Python/3.9/lib/python/site-packages/IPython/core/async_helpers.py\", line 129, in _pseudo_sync_runner\n      coro.send(None)\n    File \"/Users/nateageek/Library/Python/3.9/lib/python/site-packages/IPython/core/interactiveshell.py\", line 3194, in run_cell_async\n      has_raised = await self.run_ast_nodes(code_ast.body, cell_name,\n    File \"/Users/nateageek/Library/Python/3.9/lib/python/site-packages/IPython/core/interactiveshell.py\", line 3373, in run_ast_nodes\n      if await self.run_code(code, result, async_=asy):\n    File \"/Users/nateageek/Library/Python/3.9/lib/python/site-packages/IPython/core/interactiveshell.py\", line 3433, in run_code\n      exec(code_obj, self.user_global_ns, self.user_ns)\n    File \"/var/folders/2y/zngzgkjn5j7ghwmmj_f0ytdh0000gn/T/ipykernel_4480/1929027291.py\", line 1, in <module>\n      classify_gain_or_loss_model.fit(spx_rs_x_train, classify_gain_or_loss_y_train, epochs=25, batch_size=1024)\n    File \"/Users/nateageek/Library/Python/3.9/lib/python/site-packages/keras/utils/traceback_utils.py\", line 64, in error_handler\n      return fn(*args, **kwargs)\n    File \"/Users/nateageek/Library/Python/3.9/lib/python/site-packages/keras/engine/training.py\", line 1409, in fit\n      tmp_logs = self.train_function(iterator)\n    File \"/Users/nateageek/Library/Python/3.9/lib/python/site-packages/keras/engine/training.py\", line 1051, in train_function\n      return step_function(self, iterator)\n    File \"/Users/nateageek/Library/Python/3.9/lib/python/site-packages/keras/engine/training.py\", line 1040, in step_function\n      outputs = model.distribute_strategy.run(run_step, args=(data,))\n    File \"/Users/nateageek/Library/Python/3.9/lib/python/site-packages/keras/engine/training.py\", line 1030, in run_step\n      outputs = model.train_step(data)\n    File \"/Users/nateageek/Library/Python/3.9/lib/python/site-packages/keras/engine/training.py\", line 890, in train_step\n      loss = self.compute_loss(x, y, y_pred, sample_weight)\n    File \"/Users/nateageek/Library/Python/3.9/lib/python/site-packages/keras/engine/training.py\", line 948, in compute_loss\n      return self.compiled_loss(\n    File \"/Users/nateageek/Library/Python/3.9/lib/python/site-packages/keras/engine/compile_utils.py\", line 201, in __call__\n      loss_value = loss_obj(y_t, y_p, sample_weight=sw)\n    File \"/Users/nateageek/Library/Python/3.9/lib/python/site-packages/keras/losses.py\", line 139, in __call__\n      losses = call_fn(y_true, y_pred)\n    File \"/Users/nateageek/Library/Python/3.9/lib/python/site-packages/keras/losses.py\", line 243, in call\n      return ag_fn(y_true, y_pred, **self._fn_kwargs)\n    File \"/Users/nateageek/Library/Python/3.9/lib/python/site-packages/keras/losses.py\", line 1860, in sparse_categorical_crossentropy\n      return backend.sparse_categorical_crossentropy(\n    File \"/Users/nateageek/Library/Python/3.9/lib/python/site-packages/keras/backend.py\", line 5238, in sparse_categorical_crossentropy\n      res = tf.nn.sparse_softmax_cross_entropy_with_logits(\nNode: 'sparse_categorical_crossentropy/SparseSoftmaxCrossEntropyWithLogits/SparseSoftmaxCrossEntropyWithLogits'\n2 root error(s) found.\n  (0) INVALID_ARGUMENT:  logits and labels must have the same first dimension, got logits shape [1024,6] and labels shape [6144]\n\t [[{{node sparse_categorical_crossentropy/SparseSoftmaxCrossEntropyWithLogits/SparseSoftmaxCrossEntropyWithLogits}}]]\n\t [[Equal/_19]]\n  (1) INVALID_ARGUMENT:  logits and labels must have the same first dimension, got logits shape [1024,6] and labels shape [6144]\n\t [[{{node sparse_categorical_crossentropy/SparseSoftmaxCrossEntropyWithLogits/SparseSoftmaxCrossEntropyWithLogits}}]]\n0 successful operations.\n0 derived errors ignored. [Op:__inference_train_function_164794]"
     ]
    }
   ],
   "source": [
    "classify_gain_or_loss_model.fit(spx_rs_x_train, classify_gain_or_loss_y_train, epochs=25, batch_size=1024)"
   ]
  },
  {
   "cell_type": "code",
   "execution_count": 129,
   "metadata": {},
   "outputs": [
    {
     "name": "stdout",
     "output_type": "stream",
     "text": [
      " 3/48 [>.............................] - ETA: 1s - loss: 130.7195 - accuracy: 0.2083"
     ]
    },
    {
     "name": "stderr",
     "output_type": "stream",
     "text": [
      "2023-02-22 21:44:40.337126: I tensorflow/core/grappler/optimizers/custom_graph_optimizer_registry.cc:113] Plugin optimizer for device_type GPU is enabled.\n"
     ]
    },
    {
     "name": "stdout",
     "output_type": "stream",
     "text": [
      "48/48 [==============================] - 1s 18ms/step - loss: 130.6936 - accuracy: 0.2166\n"
     ]
    },
    {
     "data": {
      "text/plain": [
       "[130.69363403320312, 0.2166127860546112]"
      ]
     },
     "execution_count": 129,
     "metadata": {},
     "output_type": "execute_result"
    }
   ],
   "source": [
    "classify_gain_or_loss_model.evaluate(spx_rs_x_test, classify_gain_or_loss_y_test, batch_size=1024)"
   ]
  },
  {
   "cell_type": "code",
   "execution_count": 132,
   "metadata": {},
   "outputs": [
    {
     "name": "stdout",
     "output_type": "stream",
     "text": [
      "48/48 [==============================] - 0s 8ms/step\n",
      "[1 0 0 0 0 1]\n",
      "[-94.50432   36.68466  -19.294262  36.108257  17.017551  -5.378902]\n",
      "tf.Tensor(\n",
      "[0.0000000e+00 1.0000000e+00 4.1745412e-09 1.0000000e+00 1.0000000e+00\n",
      " 4.5917034e-03], shape=(6,), dtype=float32)\n"
     ]
    }
   ],
   "source": [
    "predicted_gain = classify_gain_or_loss_model.predict(spx_rs_x_test, batch_size=1024)\n",
    "print(classify_gain_or_loss_y_test[3])\n",
    "print(predicted_gain[3])\n",
    "print(tf.nn.sigmoid(predicted_gain[3]))"
   ]
  },
  {
   "attachments": {},
   "cell_type": "markdown",
   "metadata": {},
   "source": [
    "So I am having a bit of trouble making the model predict what are "
   ]
  },
  {
   "attachments": {},
   "cell_type": "markdown",
   "metadata": {},
   "source": [
    "Chatting with a friend, I might want to take a simpler approach to the development of classifying gains. Going to start by extracting and doing more feature engineering on the data. Going to create a difference calculation... Perhaps manually by subtracting or by dense layer. As I believe that the layer should be able to normalize a pattern to subtract related neighbors in the input."
   ]
  },
  {
   "cell_type": "code",
   "execution_count": 21,
   "metadata": {},
   "outputs": [],
   "source": [
    "diff_spx_train = np.diff(spx_rs_x_train, axis=1)\n",
    "diff_spx_test = np.diff(spx_rs_x_test, axis=1)"
   ]
  },
  {
   "cell_type": "code",
   "execution_count": 22,
   "metadata": {},
   "outputs": [
    {
     "ename": "SyntaxError",
     "evalue": "invalid syntax (2319616288.py, line 8)",
     "output_type": "error",
     "traceback": [
      "\u001b[0;36m  Cell \u001b[0;32mIn[22], line 8\u001b[0;36m\u001b[0m\n\u001b[0;31m    diff_model.compile(optimizer=\"adam\", loss=tf.keras., metrics=['accuracy'])\u001b[0m\n\u001b[0m                                                       ^\u001b[0m\n\u001b[0;31mSyntaxError\u001b[0m\u001b[0;31m:\u001b[0m invalid syntax\n"
     ]
    }
   ],
   "source": [
    "# Difference Calculator Model\n",
    "\n",
    "diff_model = tf.keras.models.Sequential([\n",
    "    tf.keras.layers.Input(shape=(diff_spx_train.shape[1], )),\n",
    "    tf.keras.layers.Dense(128),\n",
    "    tf.keras.layers.Dense(6)\n",
    "])\n",
    "diff_model.compile(optimizer=\"adam\", loss=tf.keras., metrics=['accuracy'])\n"
   ]
  },
  {
   "cell_type": "code",
   "execution_count": 23,
   "metadata": {},
   "outputs": [
    {
     "ename": "NameError",
     "evalue": "name 'diff_model' is not defined",
     "output_type": "error",
     "traceback": [
      "\u001b[0;31m---------------------------------------------------------------------------\u001b[0m",
      "\u001b[0;31mNameError\u001b[0m                                 Traceback (most recent call last)",
      "Cell \u001b[0;32mIn[23], line 1\u001b[0m\n\u001b[0;32m----> 1\u001b[0m diff_model\u001b[39m.\u001b[39mfit(diff_spx_train, classify_gain_or_loss_y_train, epochs\u001b[39m=\u001b[39m\u001b[39m100\u001b[39m, batch_size\u001b[39m=\u001b[39m\u001b[39m1024\u001b[39m)\n",
      "\u001b[0;31mNameError\u001b[0m: name 'diff_model' is not defined"
     ]
    }
   ],
   "source": [
    "diff_model.fit(diff_spx_train, classify_gain_or_loss_y_train, epochs=100, batch_size=1024)"
   ]
  },
  {
   "cell_type": "code",
   "execution_count": 24,
   "metadata": {},
   "outputs": [
    {
     "ename": "NameError",
     "evalue": "name 'diff_model' is not defined",
     "output_type": "error",
     "traceback": [
      "\u001b[0;31m---------------------------------------------------------------------------\u001b[0m",
      "\u001b[0;31mNameError\u001b[0m                                 Traceback (most recent call last)",
      "Cell \u001b[0;32mIn[24], line 1\u001b[0m\n\u001b[0;32m----> 1\u001b[0m diff_model\u001b[39m.\u001b[39mevaluate(diff_spx_test, classify_gain_or_loss_y_test, batch_size\u001b[39m=\u001b[39m\u001b[39m1024\u001b[39m)\n",
      "\u001b[0;31mNameError\u001b[0m: name 'diff_model' is not defined"
     ]
    }
   ],
   "source": [
    "diff_model.evaluate(diff_spx_test, classify_gain_or_loss_y_test, batch_size=1024)"
   ]
  },
  {
   "cell_type": "code",
   "execution_count": 25,
   "metadata": {},
   "outputs": [
    {
     "ename": "NameError",
     "evalue": "name 'diff_model' is not defined",
     "output_type": "error",
     "traceback": [
      "\u001b[0;31m---------------------------------------------------------------------------\u001b[0m",
      "\u001b[0;31mNameError\u001b[0m                                 Traceback (most recent call last)",
      "Cell \u001b[0;32mIn[25], line 1\u001b[0m\n\u001b[0;32m----> 1\u001b[0m predicted_diffs \u001b[39m=\u001b[39m diff_model\u001b[39m.\u001b[39mpredict(diff_spx_test, batch_size\u001b[39m=\u001b[39m\u001b[39m1024\u001b[39m)\n\u001b[1;32m      2\u001b[0m \u001b[39mprint\u001b[39m(classify_gain_or_loss_y_train[\u001b[39m0\u001b[39m])\n\u001b[1;32m      3\u001b[0m \u001b[39mprint\u001b[39m(predicted_diffs[\u001b[39m0\u001b[39m])\n",
      "\u001b[0;31mNameError\u001b[0m: name 'diff_model' is not defined"
     ]
    }
   ],
   "source": [
    "predicted_diffs = diff_model.predict(diff_spx_test, batch_size=1024)\n",
    "print(classify_gain_or_loss_y_train[0])\n",
    "print(predicted_diffs[0])"
   ]
  }
 ],
 "metadata": {
  "kernelspec": {
   "display_name": "Python 3",
   "language": "python",
   "name": "python3"
  },
  "language_info": {
   "codemirror_mode": {
    "name": "ipython",
    "version": 3
   },
   "file_extension": ".py",
   "mimetype": "text/x-python",
   "name": "python",
   "nbconvert_exporter": "python",
   "pygments_lexer": "ipython3",
   "version": "3.9.6 (default, Oct 18 2022, 12:41:40) \n[Clang 14.0.0 (clang-1400.0.29.202)]"
  },
  "orig_nbformat": 4,
  "vscode": {
   "interpreter": {
    "hash": "31f2aee4e71d21fbe5cf8b01ff0e069b9275f58929596ceb00d14d90e3e16cd6"
   }
  }
 },
 "nbformat": 4,
 "nbformat_minor": 2
}
