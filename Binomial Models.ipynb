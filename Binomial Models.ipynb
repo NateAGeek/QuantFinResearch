{
 "cells": [
  {
   "attachments": {},
   "cell_type": "markdown",
   "metadata": {},
   "source": [
    "## Binomial Models\n",
    "\n"
   ]
  },
  {
   "cell_type": "code",
   "execution_count": 4,
   "metadata": {},
   "outputs": [
    {
     "name": "stdout",
     "output_type": "stream",
     "text": [
      "Starting Capital 4.0\n",
      "Number of Shares 1.0\n",
      "4.0\n",
      "4\n",
      "Yeps X_0 = S_0\n"
     ]
    }
   ],
   "source": [
    "S_0 = 4\n",
    "S_1H = 8\n",
    "S_1T = 2\n",
    "\n",
    "r = 1/4\n",
    "u = S_1H/S_0\n",
    "d = S_1T/S_0\n",
    "\n",
    "p = (1 + r - d)/(u - d)\n",
    "q = (u - 1 - r)/(u - d)\n",
    "\n",
    "V_1H = 8\n",
    "V_1T = 2\n",
    "\n",
    "\n",
    "\n",
    "X_0 = (p * V_1H + q * V_1T)/(1 + r) # Starting capital required\n",
    "D_0 = (V_1H - V_1T) / (S_1H - S_1T)\n",
    "\n",
    "X_1 = \n",
    "\n",
    "print(f\"Starting Capital {X_0}\")\n",
    "print(f\"Number of Shares {D_0}\")\n",
    "\n",
    "print(X_0)\n",
    "print(S_0)\n",
    "\n",
    "if X_0 == S_0:\n",
    "    print(\"Yeps X_0 = S_0\")\n",
    "\n"
   ]
  }
 ],
 "metadata": {
  "kernelspec": {
   "display_name": "Python 3",
   "language": "python",
   "name": "python3"
  },
  "language_info": {
   "codemirror_mode": {
    "name": "ipython",
    "version": 3
   },
   "file_extension": ".py",
   "mimetype": "text/x-python",
   "name": "python",
   "nbconvert_exporter": "python",
   "pygments_lexer": "ipython3",
   "version": "3.9.6"
  },
  "orig_nbformat": 4
 },
 "nbformat": 4,
 "nbformat_minor": 2
}
